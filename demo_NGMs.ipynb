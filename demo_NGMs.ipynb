
{
  "cells": [
    {
      "cell_type": "markdown",
      "source": [
        "### Modeling Gaussian Graphical models\n",
        "\n",
        "We design a synthetic experiment to study the capability of NGMs to represent Gaussian graphical models. The input data X is sampled from a multivariate Gaussian distribution where we define the underlying precision matrix. The graph input G to the NGM will be the corresponding partial correlation matrix. We know that every conditional distribution of a multivariate Gaussian distribution is a Gaussian distribution. The aim of this experiment is to see (via plots) how close are the distributions learned by the NGMs. We additionally gauge the sampling ability of NGMs to model the multivariate Gaussian distribution."
      ],
      "metadata": {}
    },
    {
      "cell_type": "code",
      "source": [
        "import os, sys\n",
        "# reloads modules automatically before entering the \n",
        "# execution of code typed at the IPython prompt.\n",
        "%load_ext autoreload\n",
        "%autoreload 2\n",
        "print(sys.prefix)\n",
        "import warnings\n",
        "warnings.filterwarnings('ignore')\n",
        "\n",
        "import pickle"
      ],
      "outputs": [
        {
          "output_type": "stream",
          "name": "stdout",
          "text": "The autoreload extension is already loaded. To reload it, use:\n  %reload_ext autoreload\n/anaconda/envs/ngm\n"
        }
      ],
      "execution_count": 102,
      "metadata": {
        "gather": {
          "logged": 1674631887137
        }
      }
    },
    {
      "cell_type": "markdown",
      "source": [
        "### Setup the Gaussian graphical model\n",
        "1. Initialize a graph type.\n",
        "2. Get the precision matrix `theta` and corresponding samples `X` from a multivariate Gaussian distribution.\n",
        "3. Get the partial correlations matrix `rho` and the graph `G`."
      ],
      "metadata": {}
    },
    {
      "cell_type": "code",
      "source": [
        "import numpy as np\n",
        "import pandas as pd\n",
        "\n",
        "# Local imports\n",
        "from ngm.utils import ggm\n",
        "from ngm.utils import data_processing as dp\n",
        "# from uGLAD.utils.metrics import reportMetrics\n",
        "\n",
        "# Xb = samples batch, trueTheta = corresponding true precision matrices\n",
        "Xb, true_theta = ggm.get_data(\n",
        "    num_nodes=10, \n",
        "    typeG='CHAIN', \n",
        "    sparsity=[0.2, 0.2], # Not used for chain graph\n",
        "    num_samples=5000, \n",
        "    batch_size=1,\n",
        "    eig_offset=0.1, \n",
        "    w_min=0.5,\n",
        "    w_max=1\n",
        ")\n",
        "X, true_theta =Xb[0], true_theta[0]\n",
        "# set the column names for X\n",
        "X = pd.DataFrame(X, columns=['n'+str(i) for i in range(X.shape[1])])\n",
        "rho = ggm.get_partial_correlations(true_theta)\n",
        "print(f'partial correlations: {rho.shape}, Samples {X.shape}')\n",
        "G, image_G, graph_edge_list = ggm.graph_from_partial_correlations(rho, X.columns)"
      ],