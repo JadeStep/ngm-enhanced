
{
  "cells": [
    {
      "cell_type": "markdown",
      "source": [
        "### Modeling Gaussian Graphical models\n",
        "\n",
        "We design a synthetic experiment to study the capability of NGMs to represent Gaussian graphical models. The input data X is sampled from a multivariate Gaussian distribution where we define the underlying precision matrix. The graph input G to the NGM will be the corresponding partial correlation matrix. We know that every conditional distribution of a multivariate Gaussian distribution is a Gaussian distribution. The aim of this experiment is to see (via plots) how close are the distributions learned by the NGMs. We additionally gauge the sampling ability of NGMs to model the multivariate Gaussian distribution."
      ],
      "metadata": {}
    },
    {
      "cell_type": "code",
      "source": [
        "import os, sys\n",
        "# reloads modules automatically before entering the \n",
        "# execution of code typed at the IPython prompt.\n",
        "%load_ext autoreload\n",
        "%autoreload 2\n",
        "print(sys.prefix)\n",
        "import warnings\n",
        "warnings.filterwarnings('ignore')\n",
        "\n",
        "import pickle"
      ],
      "outputs": [